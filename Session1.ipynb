{
 "cells": [
  {
   "cell_type": "code",
   "execution_count": 1,
   "id": "057d10a6-eb96-430b-a33c-ddff722acc1f",
   "metadata": {},
   "outputs": [
    {
     "name": "stdout",
     "output_type": "stream",
     "text": [
      "John\n",
      "30\n",
      "True\n",
      "3.87\n"
     ]
    }
   ],
   "source": [
    "# Create a variable called 'name' and assign it the value 'John'\n",
    "name = \"John\" # String\n",
    "# Create a variable called 'age' and assign it the value 30\n",
    "age = 30 # Int\n",
    "# Create a variable called 'is_student' and assign it the value True\n",
    "is_student = True # Boolean\n",
    "# Create a variable called 'gpa' and assign it the value 3.87\n",
    "gpa = 3.87 # Float\n",
    "# You can print the value of a variable using the print() function.\n",
    "\n",
    "print(name)\n",
    "print(age)\n",
    "print(is_student)\n",
    "print(gpa)"
   ]
  },
  {
   "cell_type": "code",
   "execution_count": 8,
   "id": "9d5ad6f3-8233-4d47-a3d7-4764e1a23ed0",
   "metadata": {},
   "outputs": [
    {
     "name": "stdout",
     "output_type": "stream",
     "text": [
      "['Math', 'Science', 'English', 'History']\n",
      "(90, 85, 92, 88)\n",
      "{'name': 'John', 'age': 30, 'is_student': True}\n"
     ]
    }
   ],
   "source": [
    "# Collection data types:\n",
    "\n",
    "# Create a variable called 'subjects' and assign it a list of strings\n",
    "subjects = [\"Math\", \"Science\", \"English\", \"History\"] # List\n",
    "# Create a variable called 'grades' and assign it a tuple of integers\n",
    "grades = (90, 85, 92, 88) # Tuple\n",
    "# Create a variable called 'student_info' and assign it a dictionary with key-value pairs\n",
    "student_info = {\"name\": \"John\", \"age\": 30, \"is_student\": True} # Dictionary\n",
    "# You can print the value of a variable using the print() function.\n",
    "print(subjects)\n",
    "print(grades)\n",
    "print(student_info)"
   ]
  },
  {
   "cell_type": "code",
   "execution_count": 7,
   "id": "c241d4ac-2a9e-4573-8663-afc434240c7c",
   "metadata": {},
   "outputs": [
    {
     "name": "stdout",
     "output_type": "stream",
     "text": [
      "<class 'str'>\n",
      "<class 'int'>\n",
      "<class 'bool'>\n",
      "<class 'float'>\n"
     ]
    }
   ],
   "source": [
    "# Check the type of a variable using the type() function\n",
    "print(type(name))\n",
    "print(type(age))\n",
    "print(type(is_student))\n",
    "print(type(gpa))"
   ]
  },
  {
   "cell_type": "code",
   "execution_count": 9,
   "id": "e92d9fe1-0ec9-4e98-b08e-257b5546c22b",
   "metadata": {},
   "outputs": [
    {
     "name": "stdout",
     "output_type": "stream",
     "text": [
      "30\n",
      "3\n"
     ]
    }
   ],
   "source": [
    "# Convert a variable to a different type using the built-in functions\n",
    "age = str(age) # Convert an integer to a string\n",
    "print(age) \n",
    "gpa = int(gpa) # Convert a float to an integer\n",
    "print(gpa) "
   ]
  },
  {
   "cell_type": "code",
   "execution_count": 11,
   "id": "840bb67f-d218-45c8-8c81-7b5f66524b9d",
   "metadata": {},
   "outputs": [
    {
     "name": "stdout",
     "output_type": "stream",
     "text": [
      "Welcome to the world of conditionals!\n"
     ]
    },
    {
     "name": "stdin",
     "output_type": "stream",
     "text": [
      "Enter your age:  12\n"
     ]
    },
    {
     "name": "stdout",
     "output_type": "stream",
     "text": [
      "You are not an adult yet.\n"
     ]
    }
   ],
   "source": [
    "# Conditionals\n",
    "print(\"Welcome to the world of conditionals!\")\n",
    "age = int(input(\"Enter your age: \"))\n",
    "if age >= 18:\n",
    "    print(\"You are an adult!\")\n",
    "else:\n",
    "    print(\"You are not an adult yet.\")"
   ]
  },
  {
   "cell_type": "code",
   "execution_count": 12,
   "id": "ad63b9d6-932a-4a2b-a2f0-68366b706e87",
   "metadata": {},
   "outputs": [
    {
     "name": "stdout",
     "output_type": "stream",
     "text": [
      "Blue is a great color!\n"
     ]
    }
   ],
   "source": [
    "# Let's add another conditional statement\n",
    "favorite_color = \"blue\"\n",
    "\n",
    "if favorite_color == \"blue\":\n",
    "    print(\"Blue is a great color!\")\n",
    "elif favorite_color == \"red\":\n",
    "    print(\"Red is a vibrant color!\")\n",
    "elif favorite_color == \"green\":\n",
    "    print(\"Green is the color of nature!\")\n",
    "else:\n",
    "    print(\"That's a nice color too!\")"
   ]
  },
  {
   "cell_type": "code",
   "execution_count": 13,
   "id": "38d09c6a-b580-498f-bfde-8825d3f15baf",
   "metadata": {},
   "outputs": [
    {
     "name": "stdout",
     "output_type": "stream",
     "text": [
      "Let's explore comparison operators!\n",
      "10 is equal to 10\n",
      "10 is not equal to 5\n",
      "10 is greater than 5\n",
      "5 is less than 10\n",
      "10 is greater than or equal to 10\n",
      "5 is less than or equal to 10\n"
     ]
    }
   ],
   "source": [
    "# Comparison Operators\n",
    "print(\"Let's explore comparison operators!\")\n",
    "\n",
    "# == (Equal to)\n",
    "if 10 == 10:\n",
    "    print(\"10 is equal to 10\")\n",
    "\n",
    "# != (Not equal to)\n",
    "if 10 != 5:\n",
    "    print(\"10 is not equal to 5\")\n",
    "\n",
    "# > (Greater than)\n",
    "if 10 > 5:\n",
    "    print(\"10 is greater than 5\")\n",
    "\n",
    "# < (Less than)\n",
    "if 5 < 10:\n",
    "    print(\"5 is less than 10\")\n",
    "\n",
    "# >= (Greater than or equal to)\n",
    "if 10 >= 10:\n",
    "    print(\"10 is greater than or equal to 10\")\n",
    "\n",
    "# <= (Less than or equal to)\n",
    "if 5 <= 10:\n",
    "    print(\"5 is less than or equal to 10\")"
   ]
  },
  {
   "cell_type": "code",
   "execution_count": 14,
   "id": "e90e6d4f-4d0b-47bd-9656-d78a5a3b15dc",
   "metadata": {},
   "outputs": [
    {
     "name": "stdout",
     "output_type": "stream",
     "text": [
      "Let's dive into logical operators!\n",
      "Both conditions are True\n",
      "At least one condition is True\n",
      "10 is not equal to 5\n"
     ]
    }
   ],
   "source": [
    "# Logical Operators\n",
    "print(\"Let's dive into logical operators!\")\n",
    "\n",
    "# and (Both conditions must be True)\n",
    "if 10 > 5 and 5 < 10:\n",
    "    print(\"Both conditions are True\")\n",
    "\n",
    "# or (At least one condition must be True)\n",
    "if 10 > 5 or 5 > 10:\n",
    "    print(\"At least one condition is True\")\n",
    "\n",
    "# not (Negates the condition)\n",
    "if not 10 == 5:\n",
    "    print(\"10 is not equal to 5\")"
   ]
  },
  {
   "cell_type": "code",
   "execution_count": 15,
   "id": "9cf4c138-2d08-4209-9b3f-c6207b5f9f6d",
   "metadata": {},
   "outputs": [
    {
     "name": "stdout",
     "output_type": "stream",
     "text": [
      "0\n",
      "1\n",
      "2\n",
      "3\n",
      "4\n"
     ]
    }
   ],
   "source": [
    "# Iterates from 0 to 4\n",
    "for i in range(5):\n",
    "    print(i)"
   ]
  },
  {
   "cell_type": "code",
   "execution_count": 17,
   "id": "6303b270-8d1b-4550-87ec-e29d203d33b8",
   "metadata": {},
   "outputs": [
    {
     "name": "stdout",
     "output_type": "stream",
     "text": [
      "2\n",
      "3\n",
      "4\n"
     ]
    }
   ],
   "source": [
    "# Range with start\n",
    "# Iterates from 2 to 4\n",
    "for i in range(2, 5):\n",
    "    print(i)"
   ]
  },
  {
   "cell_type": "code",
   "execution_count": 18,
   "id": "f1bd0e6b-4a07-4be4-9648-77e8e79b6e64",
   "metadata": {},
   "outputs": [
    {
     "name": "stdout",
     "output_type": "stream",
     "text": [
      "0\n",
      "2\n",
      "4\n",
      "6\n",
      "8\n"
     ]
    }
   ],
   "source": [
    "# Range with step\n",
    "# Iterates from 0 to 8, with a step of 2\n",
    "for i in range(0, 10, 2):\n",
    "    print(i)"
   ]
  },
  {
   "cell_type": "code",
   "execution_count": 19,
   "id": "ed88b95a-0c8e-464f-b478-fe2864d0f450",
   "metadata": {},
   "outputs": [
    {
     "name": "stdout",
     "output_type": "stream",
     "text": [
      "10\n",
      "9\n",
      "8\n",
      "7\n",
      "6\n",
      "5\n",
      "4\n",
      "3\n",
      "2\n",
      "1\n"
     ]
    }
   ],
   "source": [
    "# Negative step\n",
    "# Iterates from 10 to 1 in reverse, with a step of -1\n",
    "for i in range(10, 0, -1):\n",
    "    print(i)"
   ]
  },
  {
   "cell_type": "code",
   "execution_count": 20,
   "id": "dc55e3b9-ab1c-454b-be58-f2b5b54aea1b",
   "metadata": {},
   "outputs": [
    {
     "name": "stdout",
     "output_type": "stream",
     "text": [
      "0\n",
      "1\n",
      "2\n",
      "3\n",
      "4\n",
      "5\n",
      "6\n",
      "7\n",
      "8\n",
      "9\n"
     ]
    }
   ],
   "source": [
    "# While loop\n",
    "i = 0\n",
    "while i < 10:\n",
    "  print(i)\n",
    "  i += 1"
   ]
  },
  {
   "cell_type": "code",
   "execution_count": 21,
   "id": "2364dbb4-608a-4acb-a008-fe8a277fa0c1",
   "metadata": {},
   "outputs": [
    {
     "name": "stdout",
     "output_type": "stream",
     "text": [
      "Loop is running\n",
      "Loop is running\n",
      "Loop is running\n",
      "Loop is running\n",
      "Loop is running\n"
     ]
    }
   ],
   "source": [
    "# While loop with boolean\n",
    "is_running = True\n",
    "counter = 0\n",
    "while is_running:\n",
    "  print(\"Loop is running\")\n",
    "  counter += 1\n",
    "  if counter == 5:\n",
    "    is_running = False"
   ]
  },
  {
   "cell_type": "code",
   "execution_count": 25,
   "id": "6dbb49f7-8b64-4f04-8753-16cc6c12a74a",
   "metadata": {},
   "outputs": [
    {
     "name": "stdout",
     "output_type": "stream",
     "text": [
      "H\n",
      "e\n",
      "l\n",
      "l\n",
      "o\n"
     ]
    }
   ],
   "source": [
    "text = \"Hello, World!\"\n",
    "index = 0\n",
    "\n",
    "while index < len(text):\n",
    "    if text[index] == ',':\n",
    "        break  # End the loop immediately when encountering a comma\n",
    "    print(text[index])\n",
    "    index += 1"
   ]
  },
  {
   "cell_type": "code",
   "execution_count": 24,
   "id": "81d5938c-b365-489e-9518-a7916fd96176",
   "metadata": {},
   "outputs": [
    {
     "name": "stdout",
     "output_type": "stream",
     "text": [
      "apple\n",
      "banana\n",
      "cherry\n",
      "fig\n",
      "grape\n"
     ]
    }
   ],
   "source": [
    "# List of fruits\n",
    "fruits = [\"apple\", \"banana\", \"cherry\", \"date\", \"fig\", \"grape\"]\n",
    "\n",
    "# Loop through the list of fruits\n",
    "for fruit in fruits:\n",
    "    if fruit == \"date\":\n",
    "        continue  # Skip printing \"date\"\n",
    "    print(fruit)"
   ]
  },
  {
   "cell_type": "code",
   "execution_count": 27,
   "id": "18ca320b-7d97-46c9-a5a9-e4045e7b4216",
   "metadata": {},
   "outputs": [
    {
     "name": "stdout",
     "output_type": "stream",
     "text": [
      "Welcome to the world of functions!\n"
     ]
    }
   ],
   "source": [
    "def function_basics():\n",
    "    print(\"Welcome to the world of functions!\")\n",
    "\n",
    "function_basics()"
   ]
  },
  {
   "cell_type": "code",
   "execution_count": 28,
   "id": "550bc49d-9b09-46cc-9bac-b1065623b512",
   "metadata": {},
   "outputs": [
    {
     "name": "stdout",
     "output_type": "stream",
     "text": [
      "Hello, Alice!\n"
     ]
    }
   ],
   "source": [
    "def greet(name):\n",
    "        print(f\"Hello, {name}!\")\n",
    "\n",
    "# Calling the function\n",
    "greet(\"Alice\")\n",
    "\n",
    "# Student can replace the parameter with their name here"
   ]
  },
  {
   "cell_type": "code",
   "execution_count": 32,
   "id": "fbf4de6f-da72-4221-a2a0-5e37d0200aa3",
   "metadata": {},
   "outputs": [
    {
     "name": "stdout",
     "output_type": "stream",
     "text": [
      "The sum is 8\n"
     ]
    }
   ],
   "source": [
    "# Functions with return values\n",
    "def add_numbers(x, y):\n",
    "    return x + y\n",
    "\n",
    "# Calling the function and storing the result\n",
    "sum_result = add_numbers(5, 3)\n",
    "print(\"The sum is \" + str(sum_result))"
   ]
  },
  {
   "cell_type": "code",
   "execution_count": 33,
   "id": "6f32ddc0-84e6-4cc1-8050-3374c04314b3",
   "metadata": {},
   "outputs": [
    {
     "name": "stdout",
     "output_type": "stream",
     "text": [
      "Hello, Bob!\n",
      "Hello, World!\n"
     ]
    }
   ],
   "source": [
    "# Functions with default arguments\n",
    "def greet_with_default(name=\"World\"):\n",
    "    print(f\"Hello, {name}!\")\n",
    "\n",
    "# Calling the function with and without providing a name\n",
    "greet_with_default(\"Bob\")\n",
    "greet_with_default()"
   ]
  },
  {
   "cell_type": "code",
   "execution_count": 37,
   "id": "cf4150e3-9705-42ae-906a-92d972e65a5a",
   "metadata": {},
   "outputs": [
    {
     "name": "stdout",
     "output_type": "stream",
     "text": [
      "x = 10 is a global variable\n"
     ]
    }
   ],
   "source": [
    "# Global scope\n",
    "x = 10 # Global variable\n",
    "print(\"x =\", str(x), \"is a global variable\")"
   ]
  },
  {
   "cell_type": "code",
   "execution_count": 36,
   "id": "c8318b59-2a6a-4295-a703-d8e2a32bce05",
   "metadata": {},
   "outputs": [
    {
     "name": "stdout",
     "output_type": "stream",
     "text": [
      "Inside the function, x = 10, y = 20\n"
     ]
    }
   ],
   "source": [
    "# Local scope\n",
    "def my_function():\n",
    "  y = 20  # Local variable\n",
    "  print(f\"Inside the function, x = {x}, y = {y}\")\n",
    "\n",
    "my_function()"
   ]
  },
  {
   "cell_type": "code",
   "execution_count": 38,
   "id": "96125e30-b1ab-4115-b412-e6c633ee6a11",
   "metadata": {},
   "outputs": [
    {
     "ename": "NameError",
     "evalue": "name 'y' is not defined",
     "output_type": "error",
     "traceback": [
      "\u001b[1;31m---------------------------------------------------------------------------\u001b[0m",
      "\u001b[1;31mNameError\u001b[0m                                 Traceback (most recent call last)",
      "Cell \u001b[1;32mIn[38], line 2\u001b[0m\n\u001b[0;32m      1\u001b[0m \u001b[38;5;66;03m# Trying to access y outside the function will result in an error.\u001b[39;00m\n\u001b[1;32m----> 2\u001b[0m \u001b[38;5;28mprint\u001b[39m(\u001b[43my\u001b[49m)  \u001b[38;5;66;03m# NameError: name 'y' is not defined\u001b[39;00m\n",
      "\u001b[1;31mNameError\u001b[0m: name 'y' is not defined"
     ]
    }
   ],
   "source": [
    "# Trying to access y outside the function will result in an error.\n",
    "print(y)  # NameError: name 'y' is not defined"
   ]
  },
  {
   "cell_type": "code",
   "execution_count": 40,
   "id": "ce5ebd00-8a71-4535-9ccc-4a1817cc07e4",
   "metadata": {},
   "outputs": [
    {
     "name": "stdout",
     "output_type": "stream",
     "text": [
      "x before modifying is 10\n",
      "x after modifying is 25\n"
     ]
    }
   ],
   "source": [
    "def modify_global():\n",
    "  global x\n",
    "  x = 25\n",
    "print(f\"x before modifying is {x}\")\n",
    "modify_global()\n",
    "print(f\"x after modifying is {x}\")"
   ]
  },
  {
   "cell_type": "code",
   "execution_count": 41,
   "id": "e0d7f6f3-9fe9-4381-86f3-5cf5f29f4edc",
   "metadata": {},
   "outputs": [
    {
     "name": "stdout",
     "output_type": "stream",
     "text": [
      "You cannot divide by zero!\n",
      "This block always executes, regardless of exceptions.\n"
     ]
    }
   ],
   "source": [
    "# Error handling\n",
    "try:\n",
    "    # Code that might raise an exception\n",
    "    result = 10 / 0  # This will raise a ZeroDivisionError\n",
    "except ZeroDivisionError:\n",
    "    print(\"You cannot divide by zero!\")\n",
    "except Exception as e:\n",
    "    print(f\"An unexpected error occurred: {e}\")\n",
    "else:\n",
    "    print(\"The calculation was successful!\")\n",
    "finally:\n",
    "    print(\"This block always executes, regardless of exceptions.\")"
   ]
  },
  {
   "cell_type": "code",
   "execution_count": null,
   "id": "9b02d257-82cc-4dcf-a8a7-bffe9455c237",
   "metadata": {},
   "outputs": [],
   "source": []
  },
  {
   "cell_type": "code",
   "execution_count": 47,
   "id": "e013ae58-729d-483f-8e42-fe55869a62f6",
   "metadata": {},
   "outputs": [
    {
     "name": "stdout",
     "output_type": "stream",
     "text": [
      "Hello\n",
      "World\n"
     ]
    }
   ],
   "source": [
    "import asyncio\n",
    "import nest_asyncio\n",
    "\n",
    "# Apply nest_asyncio to allow nested event loops\n",
    "nest_asyncio.apply()\n",
    "\n",
    "# Define an asynchronous function\n",
    "async def say_hello():\n",
    "    print(\"Hello\")\n",
    "    await asyncio.sleep(1)  # Simulate an asynchronous delay\n",
    "    print(\"World\")\n",
    "\n",
    "# Run the asynchronous function\n",
    "async def main():\n",
    "    await say_hello()\n",
    "\n",
    "# Execute the main function\n",
    "await main()"
   ]
  },
  {
   "cell_type": "code",
   "execution_count": null,
   "id": "6d533599-1ce4-4121-8d91-09080a4b152b",
   "metadata": {},
   "outputs": [],
   "source": []
  }
 ],
 "metadata": {
  "kernelspec": {
   "display_name": "Python 3 (ipykernel)",
   "language": "python",
   "name": "python3"
  },
  "language_info": {
   "codemirror_mode": {
    "name": "ipython",
    "version": 3
   },
   "file_extension": ".py",
   "mimetype": "text/x-python",
   "name": "python",
   "nbconvert_exporter": "python",
   "pygments_lexer": "ipython3",
   "version": "3.12.4"
  }
 },
 "nbformat": 4,
 "nbformat_minor": 5
}
